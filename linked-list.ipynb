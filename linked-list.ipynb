{
 "cells": [
  {
   "cell_type": "code",
   "execution_count": 20,
   "metadata": {},
   "outputs": [],
   "source": [
    "class Node:\n",
    "    \n",
    "    def __init__(self,data):\n",
    "        self.data = data\n",
    "        self.next = None"
   ]
  },
  {
   "cell_type": "code",
   "execution_count": 21,
   "metadata": {},
   "outputs": [],
   "source": [
    "class LinkedList:\n",
    "    \n",
    "    def __init__(self):\n",
    "        self.head = None\n",
    "        \n",
    "    def list_traverse(self):\n",
    "        temp = self.head\n",
    "        while(temp.next):\n",
    "            print(temp.data,end='=>')\n",
    "            temp = temp.next\n",
    "        print(temp.data)\n",
    "    \n",
    "    def insert_begin(self,data):\n",
    "        new_node = Node(data)\n",
    "        if self.head == None:\n",
    "            self.head = new_node\n",
    "        else:\n",
    "            new_node.next = self.head\n",
    "            self.head = new_node\n",
    "        \n",
    "    def insert_end(self,data):\n",
    "        new_node = Node(data)\n",
    "        if self.head == None:\n",
    "            self.head = new_node\n",
    "        else:\n",
    "            temp = self.head\n",
    "            while(temp.next):\n",
    "                temp = temp.next\n",
    "            temp.next = new_node\n",
    "            \n",
    "    def insert_after_node(self,prev_node,data):\n",
    "        if prev_node == None:\n",
    "            print('please provide valid node information')\n",
    "        else:\n",
    "            new_node = Node(data)\n",
    "            new_node.next = prev_node.next\n",
    "            prev_node.next = new_node\n",
    "        \n",
    "    \n",
    "    def list_length_iterative(self):\n",
    "        \"\"\"\n",
    "        This functions returns the length of the given list with iterative approach\n",
    "        \"\"\"\n",
    "        count = 0\n",
    "        # If the list is empty\n",
    "        if self.head == None:\n",
    "            return 0\n",
    "        temp = self.head\n",
    "        while(temp):\n",
    "            count+=1\n",
    "            temp = temp.next\n",
    "        return count\n",
    "    \n",
    "    def count_length_recursive(self,node):\n",
    "        \"\"\"\n",
    "        This function returns the length of the linked list with recusrive approach from a given node\n",
    "        \"\"\"\n",
    "        if node == None:\n",
    "            return 0\n",
    "        else:\n",
    "            return self.count_length_recursive(node.next)+1\n",
    "        \n",
    "    def list_length_recursive(self):\n",
    "        \"\"\"\n",
    "        This function returns the length of the linked list \n",
    "        \"\"\"\n",
    "        return self.count_length_recursive(self.head)\n",
    "    \n",
    "    def delete_key(self,key):\n",
    "        \"\"\"\n",
    "        This function takes key to be deleted as input parameter\n",
    "        and deletes the node with the key from the list\n",
    "        \"\"\"\n",
    "        temp = self.head\n",
    "        # If head is the node to be deleted\n",
    "        if temp.data == key:\n",
    "            self.head = temp.next\n",
    "            temp = None\n",
    "        # Iterate untill end of list to search for the key\n",
    "        while temp is not None:\n",
    "            if temp.data == key:\n",
    "                break\n",
    "            prev = temp\n",
    "            temp = temp.next\n",
    "        # If the key is not found\n",
    "        if temp == None:\n",
    "            return\n",
    "        \n",
    "        prev.next = temp.next\n",
    "        temp = None\n",
    "        \n",
    "        \n",
    "    def delete_pos(self,pos):\n",
    "        \"\"\"\n",
    "        This function deletes the node at the given position,indexing starts at 1\n",
    "        \"\"\"\n",
    "        temp = self.head\n",
    "        # If the node to be deleted is head\n",
    "        if pos == 1:\n",
    "            self.head = temp.next\n",
    "            temp = None\n",
    "        count = 1\n",
    "        # Itearting over the list to find the position in which node should be deleted\n",
    "        while temp is not None:\n",
    "            if count == pos:\n",
    "                break\n",
    "            prev = temp\n",
    "            count+=1\n",
    "            temp = temp.next\n",
    "            \n",
    "        # If the end of the list is reached and position is not found\n",
    "        if temp == None:\n",
    "            return\n",
    "        \n",
    "        # Linking the previous node with next node\n",
    "        prev.next = temp.next\n",
    "        # Isolating the node to be deleted\n",
    "        temp = None\n",
    "        \n",
    "    def search_element(self,key):\n",
    "        temp = self.head\n",
    "        while temp is not None:\n",
    "            if temp.data == key:\n",
    "                return True\n",
    "            temp = temp.next\n",
    "        return False\n",
    "    \n",
    "    def search_element_recursive(self,node,key):\n",
    "        if node == None:\n",
    "            return False\n",
    "        if node.data == key:\n",
    "            return True\n",
    "        \n",
    "        return self.search_element_recursive(node.next,key)\n",
    "    \n",
    "    def find_nth_node(self,n):\n",
    "        if n < 1:\n",
    "            return False\n",
    "        temp = self.head\n",
    "        count = 1\n",
    "        while count < n and temp != None:\n",
    "            temp = temp.next\n",
    "            count+=1\n",
    "        if temp == None:\n",
    "            return False\n",
    "        return temp.data\n",
    "    \n",
    "    def find_nth_node_end(self,n):\n",
    "        \"\"\"\n",
    "        This functions gets the nth node from the end of the linked list by traversing the list twice\n",
    "        Time complexity: O(n)\n",
    "        \"\"\"\n",
    "        # Traversing the list to find the length of the list\n",
    "        length = self.list_length_iterative()\n",
    "        # nth element from the end is 'length-n+1 element' from the start\n",
    "        from_start = length-n+1\n",
    "        if from_start < 1 or from_start >length:\n",
    "            return\n",
    "        temp =self.head\n",
    "        count = 1\n",
    "        while count < from_start:\n",
    "            count+=1\n",
    "            temp = temp.next\n",
    "        return temp.data\n",
    "    \n",
    "    \n",
    "    def find_nth_node_end_pointers(self,n):\n",
    "        \"\"\"\n",
    "        This function gets the nth node from the end of the linked list by maintaining 2 pointers,with this \n",
    "        approach we have to traverse the list only once\n",
    "        \"\"\"\n",
    "        # ref_node pointer,this will be moved n positions first\n",
    "        ref_node = self.head\n",
    "        if n < 1:\n",
    "            return\n",
    "        count = 1\n",
    "        while count <= n:\n",
    "            if ref_node == None:\n",
    "                return\n",
    "            count+=1\n",
    "            ref_node = ref_node.next\n",
    "        \n",
    "        # Main node is moved untill the ref_node is exhausted out\n",
    "        main_node = self.head\n",
    "        while ref_node is not None:\n",
    "            ref_node = ref_node.next\n",
    "            main_node = main_node.next\n",
    "        return main_node.data\n",
    "    \n",
    "    def middle_element_length(self):\n",
    "        \"\"\"\n",
    "        This function returns the middle element of the list using length of the list, it requires \n",
    "        list to be traversed atleast once\n",
    "        \"\"\"\n",
    "        length = self.list_length_iterative()\n",
    "        count = 1\n",
    "        temp = self.head\n",
    "        while count<=length//2:\n",
    "            if temp == None:\n",
    "                return\n",
    "            count+=1\n",
    "            temp = temp.next\n",
    "        return temp.data\n",
    "    \n",
    "    def middle_element_pointers(self):\n",
    "        \"\"\"\n",
    "        This function returns the middle element of the list using 2 pointers, one pointer will be \n",
    "        traversed with twice the speed of other pointer, when 1st pointer reaches the end of the list\n",
    "        2nd pointer will be at middle of the linked list\n",
    "        \"\"\"   \n",
    "        if self.head == None:\n",
    "            return\n",
    "        slow_node = self.head\n",
    "        fast_node = self.head\n",
    "        while fast_node !=None and fast_node.next !=None:\n",
    "            fast_node = fast_node.next.next\n",
    "            slow_node = slow_node.next\n",
    "        return slow_node.data\n",
    "    \n",
    "    def count_elem_iterative(self,key):\n",
    "        count = 0\n",
    "        temp = self.head\n",
    "        while temp is not None:\n",
    "            if temp.data == key:\n",
    "                count+=1\n",
    "            temp = temp.next\n",
    "        return count\n",
    "            \n",
    "    def count_elem_recursive(self,node,key):\n",
    "        if node == None:\n",
    "            return 0\n",
    "        if node.data == key:\n",
    "             return self.count_elem_recursive(node.next,key)+1\n",
    "        return self.count_elem_recursive(node.next,key)\n",
    "    \n",
    "    def detect_loop(self):\n",
    "        node_dict = {}\n",
    "        temp = self.head\n",
    "        while temp is not None:\n",
    "            if temp in node_dict:\n",
    "                return True\n",
    "            \n",
    "    def floyd_cycle_detection(self):\n",
    "        fast_node = self.head\n",
    "        slow_node = self.head\n",
    "        while(fast_node and fast_node.next and slow_node):\n",
    "            slow_node = slow_node.next\n",
    "            fast_node = fast_node.next.next\n",
    "            \n",
    "            if fast_node == slow_node:\n",
    "                return fast_node\n",
    "            \n",
    "        return None\n",
    "            \n",
    "    def floyd_cycle_loop_length(self):\n",
    "        meeting_node = self.floyd_cycle_detection()\n",
    "        if meeting_node is None:\n",
    "            return 0\n",
    "        else:\n",
    "            count = 1\n",
    "            temp = meeting_node\n",
    "            while temp.next != meeting_node:\n",
    "                count+=1\n",
    "                temp = temp.next\n",
    "            return count\n",
    "            \n",
    "    def floyd_cycle_starting_point(self):\n",
    "        meeting_node = self.floyd_cycle_detection()\n",
    "        temp = self.head\n",
    "        while(meeting_node != temp):\n",
    "            temp = temp.next\n",
    "            meeting_node = meeting_node.next\n",
    "        return temp\n",
    "    \n",
    "    def reverse_list_iterative(self):\n",
    "        current_node = self.head\n",
    "        prev_node = None\n",
    "        next_node = None\n",
    "        while(current_node is not None):\n",
    "            next_node = current_node.next\n",
    "            current_node.next = prev_node\n",
    "            prev_node = current_node\n",
    "            current_node = next_node\n",
    "        \n",
    "        self.head = prev_node\n",
    "    \n",
    "    \n",
    "        \n",
    "        \n",
    "    \n",
    "    def insert_middle(self,pos,data):\n",
    "        pass "
   ]
  },
  {
   "cell_type": "code",
   "execution_count": 22,
   "metadata": {},
   "outputs": [],
   "source": [
    "first = Node(10)\n",
    "second = Node(20)\n",
    "third = Node(30)\n",
    "llist = LinkedList()\n",
    "llist.head = first\n",
    "first.next = second\n",
    "second.next = third"
   ]
  },
  {
   "cell_type": "code",
   "execution_count": 23,
   "metadata": {},
   "outputs": [
    {
     "name": "stdout",
     "output_type": "stream",
     "text": [
      "10=>20=>30\n"
     ]
    }
   ],
   "source": [
    "llist.list_traverse()"
   ]
  },
  {
   "cell_type": "code",
   "execution_count": 24,
   "metadata": {},
   "outputs": [],
   "source": [
    "llist.insert_begin(5)"
   ]
  },
  {
   "cell_type": "code",
   "execution_count": 25,
   "metadata": {},
   "outputs": [
    {
     "name": "stdout",
     "output_type": "stream",
     "text": [
      "5=>10=>20=>30\n"
     ]
    }
   ],
   "source": [
    "llist.list_traverse()"
   ]
  },
  {
   "cell_type": "code",
   "execution_count": 26,
   "metadata": {},
   "outputs": [],
   "source": [
    "llist.insert_end(40)"
   ]
  },
  {
   "cell_type": "code",
   "execution_count": 27,
   "metadata": {},
   "outputs": [
    {
     "name": "stdout",
     "output_type": "stream",
     "text": [
      "5=>10=>20=>30=>40\n"
     ]
    }
   ],
   "source": [
    "llist.list_traverse()"
   ]
  },
  {
   "cell_type": "code",
   "execution_count": 28,
   "metadata": {},
   "outputs": [],
   "source": [
    "llist.insert_end(50)"
   ]
  },
  {
   "cell_type": "code",
   "execution_count": 29,
   "metadata": {},
   "outputs": [
    {
     "name": "stdout",
     "output_type": "stream",
     "text": [
      "5=>10=>20=>30=>40=>50\n"
     ]
    }
   ],
   "source": [
    "llist.list_traverse()"
   ]
  },
  {
   "cell_type": "code",
   "execution_count": 30,
   "metadata": {},
   "outputs": [],
   "source": [
    "llist.reverse_list_iterative()"
   ]
  },
  {
   "cell_type": "code",
   "execution_count": 31,
   "metadata": {},
   "outputs": [
    {
     "name": "stdout",
     "output_type": "stream",
     "text": [
      "50=>40=>30=>20=>10=>5\n"
     ]
    }
   ],
   "source": [
    "llist.list_traverse()"
   ]
  },
  {
   "cell_type": "code",
   "execution_count": 32,
   "metadata": {},
   "outputs": [
    {
     "data": {
      "text/plain": [
       "50"
      ]
     },
     "execution_count": 32,
     "metadata": {},
     "output_type": "execute_result"
    }
   ],
   "source": [
    "llist.head.data"
   ]
  },
  {
   "cell_type": "code",
   "execution_count": null,
   "metadata": {},
   "outputs": [],
   "source": []
  }
 ],
 "metadata": {
  "kernelspec": {
   "display_name": "Python 3",
   "language": "python",
   "name": "python3"
  },
  "language_info": {
   "codemirror_mode": {
    "name": "ipython",
    "version": 3
   },
   "file_extension": ".py",
   "mimetype": "text/x-python",
   "name": "python",
   "nbconvert_exporter": "python",
   "pygments_lexer": "ipython3",
   "version": "3.6.0"
  }
 },
 "nbformat": 4,
 "nbformat_minor": 2
}
