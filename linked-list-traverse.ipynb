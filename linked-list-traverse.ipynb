{
 "cells": [
  {
   "cell_type": "code",
   "execution_count": 4,
   "metadata": {},
   "outputs": [],
   "source": [
    "class Node:\n",
    "    \n",
    "    def __init__(self,data):\n",
    "        self.data = data\n",
    "        self.next = None"
   ]
  },
  {
   "cell_type": "code",
   "execution_count": null,
   "metadata": {},
   "outputs": [],
   "source": [
    "class LinkedList:\n",
    "    \n",
    "    def __init__(self):\n",
    "        self.head = None\n",
    "        \n",
    "    def list_traverse(self):\n",
    "        temp = self.head\n",
    "        while(temp.next):\n",
    "            print(temp.data,end='=>')\n",
    "            temp = temp.next\n",
    "        print(temp.data)\n",
    "    \n",
    "    def insert_begin(self,data):\n",
    "        new_node = Node(data)\n",
    "        if self.head == None:\n",
    "            self.head = new_node\n",
    "        else:\n",
    "            new_node.next = self.head\n",
    "            self.head = new_node\n",
    "        \n",
    "    def insert_end(self,data):\n",
    "        new_node = Node(data)\n",
    "        if self.head == None:\n",
    "            self.head = new_node\n",
    "        else:\n",
    "            temp = self.head\n",
    "            while(temp.next):\n",
    "                temp = temp.next\n",
    "            temp.next = new_node\n",
    "            \n",
    "    def insert_after_node(self,prev_node,data):\n",
    "        if prev_node == None:\n",
    "            print('please provide valid node information')\n",
    "        else:\n",
    "            new_node = Node(data)\n",
    "            new_node.next = prev_node.next\n",
    "            prev_node.next = new_node\n",
    "        \n",
    "    \n",
    "    def list_length(self):\n",
    "        count = 0\n",
    "        if self.head == None:\n",
    "            return 0\n",
    "        temp = self.head\n",
    "        while(temp):\n",
    "            count+=1\n",
    "            temp = temp.next\n",
    "        return count\n",
    "            \n",
    "    \n",
    "    def insert_middle(self,pos,data):\n",
    "        pass "
   ]
  },
  {
   "cell_type": "code",
   "execution_count": 60,
   "metadata": {},
   "outputs": [],
   "source": [
    "first = Node(10)\n",
    "second = Node(20)\n",
    "third = Node(30)\n",
    "llist = LinkedList()\n",
    "llist.head = first\n",
    "first.next = second\n",
    "second.next = third"
   ]
  },
  {
   "cell_type": "code",
   "execution_count": 61,
   "metadata": {},
   "outputs": [
    {
     "name": "stdout",
     "output_type": "stream",
     "text": [
      "10=>20=>30\n"
     ]
    }
   ],
   "source": [
    "llist.list_traverse()"
   ]
  },
  {
   "cell_type": "code",
   "execution_count": 62,
   "metadata": {},
   "outputs": [],
   "source": [
    "llist.insert_begin(5)"
   ]
  },
  {
   "cell_type": "code",
   "execution_count": 63,
   "metadata": {},
   "outputs": [
    {
     "name": "stdout",
     "output_type": "stream",
     "text": [
      "5=>10=>20=>30\n"
     ]
    }
   ],
   "source": [
    "llist.list_traverse()"
   ]
  },
  {
   "cell_type": "code",
   "execution_count": 64,
   "metadata": {},
   "outputs": [],
   "source": [
    "llist.insert_end(40)"
   ]
  },
  {
   "cell_type": "code",
   "execution_count": 65,
   "metadata": {},
   "outputs": [
    {
     "name": "stdout",
     "output_type": "stream",
     "text": [
      "5=>10=>20=>30=>40\n"
     ]
    }
   ],
   "source": [
    "llist.list_traverse()"
   ]
  },
  {
   "cell_type": "code",
   "execution_count": 66,
   "metadata": {},
   "outputs": [
    {
     "data": {
      "text/plain": [
       "5"
      ]
     },
     "execution_count": 66,
     "metadata": {},
     "output_type": "execute_result"
    }
   ],
   "source": [
    "llist.list_length()"
   ]
  },
  {
   "cell_type": "code",
   "execution_count": null,
   "metadata": {},
   "outputs": [],
   "source": []
  }
 ],
 "metadata": {
  "kernelspec": {
   "display_name": "Python 3",
   "language": "python",
   "name": "python3"
  },
  "language_info": {
   "codemirror_mode": {
    "name": "ipython",
    "version": 3
   },
   "file_extension": ".py",
   "mimetype": "text/x-python",
   "name": "python",
   "nbconvert_exporter": "python",
   "pygments_lexer": "ipython3",
   "version": "3.6.0"
  }
 },
 "nbformat": 4,
 "nbformat_minor": 2
}
