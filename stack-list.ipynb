{
 "cells": [
  {
   "cell_type": "code",
   "execution_count": 3,
   "metadata": {
    "collapsed": true
   },
   "outputs": [],
   "source": [
    "class StackNode:\n",
    "    def __init__(self, data):\n",
    "        self.data = data\n",
    "        self.next = None\n",
    "\n",
    "class StackList:\n",
    "    def __init__(self):\n",
    "        self.root = None\n",
    "    \n",
    "    def is_empty(self):\n",
    "        return True if self.root is None else False\n",
    "    \n",
    "    def push(self, data):\n",
    "        new_node = StackNode(data)\n",
    "        new_node.next = self.root\n",
    "        self.root = new_node\n",
    "    \n",
    "    def pop(self):\n",
    "        if self.root is None:\n",
    "            return False\n",
    "        temp = self.root\n",
    "        self.root = self.root.next\n",
    "        popped_data = temp.data\n",
    "        temp.next = None\n",
    "        return popped_data\n",
    "    \n",
    "    def peek(self):\n",
    "        if is_empty():\n",
    "            return False\n",
    "        return self.root.data\n",
    "        "
   ]
  }
 ],
 "metadata": {
  "kernelspec": {
   "display_name": "Python 3",
   "language": "python",
   "name": "python3"
  },
  "language_info": {
   "codemirror_mode": {
    "name": "ipython",
    "version": 3
   },
   "file_extension": ".py",
   "mimetype": "text/x-python",
   "name": "python",
   "nbconvert_exporter": "python",
   "pygments_lexer": "ipython3",
   "version": "3.6.3"
  }
 },
 "nbformat": 4,
 "nbformat_minor": 2
}
