{
 "cells": [
  {
   "cell_type": "markdown",
   "metadata": {},
   "source": [
    "# Recursive approach"
   ]
  },
  {
   "cell_type": "code",
   "execution_count": 6,
   "metadata": {},
   "outputs": [
    {
     "name": "stdout",
     "output_type": "stream",
     "text": [
      "Element is present at:4\n"
     ]
    }
   ],
   "source": [
    "def binary_search(arr,x,l,r):\n",
    "    if r>=l:\n",
    "        mid = int((l+r)/2)\n",
    "        if arr[mid] == x:\n",
    "            return mid\n",
    "        elif arr[mid] > x:\n",
    "            return binary_search(arr,x,l,mid-1)\n",
    "        else:\n",
    "            return binary_search(arr,x,mid+1,r)\n",
    "        \n",
    "    else:\n",
    "        return -1\n",
    "    \n",
    "    \n",
    "    \n",
    "arr = [10,20,30,40,50,60]\n",
    "x = 50\n",
    "index = binary_search(arr,x,0,len(arr)-1)\n",
    "if index == -1:\n",
    "    print(\"Element not present in list\")\n",
    "else:\n",
    "    print(\"Element is present at:\"+str(index))"
   ]
  },
  {
   "cell_type": "markdown",
   "metadata": {},
   "source": [
    "# Iterative approach"
   ]
  },
  {
   "cell_type": "code",
   "execution_count": 13,
   "metadata": {},
   "outputs": [
    {
     "name": "stdout",
     "output_type": "stream",
     "text": [
      "Element not present in list\n"
     ]
    }
   ],
   "source": [
    "def binary_search(arr,x,l,r):\n",
    "    \n",
    "    while r>=l:\n",
    "        mid = int((l+r)/2)\n",
    "        if arr[mid] == x:\n",
    "            return mid\n",
    "        elif arr[mid]>x:\n",
    "            r= mid-1\n",
    "        else:\n",
    "            l = mid+1\n",
    "        \n",
    "    return -1\n",
    "    \n",
    "    \n",
    "arr = [10,20,30,40,50,60]\n",
    "x = 70\n",
    "index = binary_search(arr,x,0,len(arr)-1)\n",
    "if index == -1:\n",
    "    print(\"Element not present in list\")\n",
    "else:\n",
    "    print(\"Element is present at:\"+str(index))"
   ]
  },
  {
   "cell_type": "code",
   "execution_count": null,
   "metadata": {
    "collapsed": true
   },
   "outputs": [],
   "source": []
  }
 ],
 "metadata": {
  "kernelspec": {
   "display_name": "Python 3",
   "language": "python",
   "name": "python3"
  },
  "language_info": {
   "codemirror_mode": {
    "name": "ipython",
    "version": 3
   },
   "file_extension": ".py",
   "mimetype": "text/x-python",
   "name": "python",
   "nbconvert_exporter": "python",
   "pygments_lexer": "ipython3",
   "version": "3.6.3"
  }
 },
 "nbformat": 4,
 "nbformat_minor": 2
}
