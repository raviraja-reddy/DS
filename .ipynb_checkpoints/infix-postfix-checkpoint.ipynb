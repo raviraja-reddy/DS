{
 "cells": [
  {
   "cell_type": "code",
   "execution_count": 15,
   "metadata": {},
   "outputs": [
    {
     "ename": "SyntaxError",
     "evalue": "invalid syntax (<ipython-input-15-041b857a2d3c>, line 29)",
     "output_type": "error",
     "traceback": [
      "\u001b[0;36m  File \u001b[0;32m\"<ipython-input-15-041b857a2d3c>\"\u001b[0;36m, line \u001b[0;32m29\u001b[0m\n\u001b[0;31m    while !self.is_empty and higher_precednece(self.pop(),cha):\u001b[0m\n\u001b[0m          ^\u001b[0m\n\u001b[0;31mSyntaxError\u001b[0m\u001b[0;31m:\u001b[0m invalid syntax\n"
     ]
    }
   ],
   "source": [
    "class Conversion:\n",
    "    \n",
    "    def __init__(self,capacity):\n",
    "        self.output = [] \n",
    "        self.array = []\n",
    "        self.precedence = {'(':1,'+':2,'-':2,'*':3,'/':3,'^':4}\n",
    "        self.capacity = capacity\n",
    "        self.top = -1      \n",
    "        \n",
    "    def is_empty(self):\n",
    "        return len(self.array) == 0\n",
    "    \n",
    "    def is_operand(self,input_char):\n",
    "        if input_char.isalpha() or input_char.isdigit():\n",
    "            return True\n",
    "    \n",
    "    def pop(self):\n",
    "        if len(self.array) == 0:\n",
    "            return False\n",
    "        return self.array.pop()\n",
    "    \n",
    "    def push(self,data):\n",
    "        self.top +=1\n",
    "        self.array.append(data)\n",
    "    \n",
    "    def convert_infix_postfix(self,expression):\n",
    "        \n",
    "        for cha in expression:\n",
    "            \n",
    "            if self.is_operand(cha):\n",
    "                self.output.append(cha)\n",
    "            elif cha == '(':\n",
    "                self.push(cha)\n",
    "            elif cha == ')':\n",
    "                operator = self.array.pop()\n",
    "                while \n",
    "                \n",
    "            else:\n",
    "                while self.is_empty and self.higher_precednece(self.pop(),cha):\n",
    "                    \n",
    "    def higher_precedence(self,cha1,cha2):\n",
    "        \n",
    "        \n",
    "        \n",
    "express = \"A+(B*C-(D/E-F)*G)*H\"\n",
    "capacity = len(express)\n",
    "a = Conversion(capacity)\n",
    "a.convert_infix_postfix(express)\n",
    "\n",
    "        "
   ]
  },
  {
   "cell_type": "code",
   "execution_count": 2,
   "metadata": {},
   "outputs": [
    {
     "data": {
      "text/plain": [
       "19"
      ]
     },
     "execution_count": 2,
     "metadata": {},
     "output_type": "execute_result"
    }
   ],
   "source": [
    "len(\"A+(B*C-(D/E-F)*G)*H\")"
   ]
  },
  {
   "cell_type": "code",
   "execution_count": 16,
   "metadata": {
    "collapsed": true
   },
   "outputs": [],
   "source": [
    "a = []"
   ]
  },
  {
   "cell_type": "code",
   "execution_count": 22,
   "metadata": {},
   "outputs": [
    {
     "name": "stdout",
     "output_type": "stream",
     "text": [
      "empty\n"
     ]
    }
   ],
   "source": [
    "if not a:\n",
    "    print(\"empty\")"
   ]
  },
  {
   "cell_type": "code",
   "execution_count": null,
   "metadata": {
    "collapsed": true
   },
   "outputs": [],
   "source": []
  }
 ],
 "metadata": {
  "kernelspec": {
   "display_name": "Python 3",
   "language": "python",
   "name": "python3"
  },
  "language_info": {
   "codemirror_mode": {
    "name": "ipython",
    "version": 3
   },
   "file_extension": ".py",
   "mimetype": "text/x-python",
   "name": "python",
   "nbconvert_exporter": "python",
   "pygments_lexer": "ipython3",
   "version": "3.6.3"
  }
 },
 "nbformat": 4,
 "nbformat_minor": 2
}
