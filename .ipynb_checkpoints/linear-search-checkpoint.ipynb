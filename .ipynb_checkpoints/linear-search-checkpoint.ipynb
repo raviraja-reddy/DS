{
 "cells": [
  {
   "cell_type": "code",
   "execution_count": 4,
   "metadata": {},
   "outputs": [
    {
     "name": "stdout",
     "output_type": "stream",
     "text": [
      "Element is not present in list\n"
     ]
    }
   ],
   "source": [
    "def linear_search(x,arr):\n",
    "    for i in range(len(arr)):\n",
    "        if arr[i] == x:\n",
    "            return i\n",
    "    return -1\n",
    "arr = [10, 20, 80, 30, 60, 50,110, 100, 130, 170]\n",
    "x = 180\n",
    "index = linear_search(x,arr)\n",
    "if index == -1:\n",
    "    print(\"Element is not present in list\")\n",
    "else:\n",
    "    print(index)"
   ]
  }
 ],
 "metadata": {
  "kernelspec": {
   "display_name": "Python 3",
   "language": "python",
   "name": "python3"
  },
  "language_info": {
   "codemirror_mode": {
    "name": "ipython",
    "version": 3
   },
   "file_extension": ".py",
   "mimetype": "text/x-python",
   "name": "python",
   "nbconvert_exporter": "python",
   "pygments_lexer": "ipython3",
   "version": "3.6.3"
  }
 },
 "nbformat": 4,
 "nbformat_minor": 2
}
